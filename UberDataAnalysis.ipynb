{
 "cells": [
  {
   "cell_type": "markdown",
   "metadata": {
    "id": "oNRTX5tvsfNu"
   },
   "source": [
    "DATA PREPROCESSING"
   ]
  },
  {
   "cell_type": "code",
   "execution_count": 55,
   "metadata": {
    "id": "dBLW-xCihC40"
   },
   "outputs": [],
   "source": [
    "# Libraries for handling numeric computation and dataframes\n",
    "import pandas as pd\n",
    "import numpy as np\n",
    "# Libraries for statistical plotting\n",
    "import matplotlib.pyplot as plt\n",
    "import seaborn as sns\n",
    "%matplotlib inline"
   ]
  },
  {
   "cell_type": "code",
   "execution_count": 56,
   "metadata": {
    "colab": {
     "base_uri": "https://localhost:8080/"
    },
    "id": "T5J9nh2-h1bt",
    "outputId": "3a846ee3-fadc-4a40-f074-b439ecb53d79"
   },
   "outputs": [
    {
     "name": "stdout",
     "output_type": "stream",
     "text": [
      "<class 'pandas.core.frame.DataFrame'>\n",
      "RangeIndex: 554 entries, 0 to 553\n",
      "Data columns (total 13 columns):\n",
      " #   Column                Non-Null Count  Dtype  \n",
      "---  ------                --------------  -----  \n",
      " 0   City                  554 non-null    int64  \n",
      " 1   Product Type          551 non-null    object \n",
      " 2   Trip or Order Status  554 non-null    object \n",
      " 3   Request Time          554 non-null    object \n",
      " 4   Begin Trip Time       554 non-null    object \n",
      " 5   Begin Trip Lat        525 non-null    float64\n",
      " 6   Begin Trip Lng        525 non-null    float64\n",
      " 7   Dropoff Time          554 non-null    object \n",
      " 8   Dropoff Lat           525 non-null    float64\n",
      " 9   Dropoff Lng           525 non-null    float64\n",
      " 10  Distance (miles)      554 non-null    float64\n",
      " 11  Fare Amount           554 non-null    float64\n",
      " 12  Fare Currency         551 non-null    object \n",
      "dtypes: float64(6), int64(1), object(6)\n",
      "memory usage: 56.4+ KB\n"
     ]
    }
   ],
   "source": [
    "dataset=pd.read_csv('Uber_data.csv')\n",
    "dataset.info()"
   ]
  },
  {
   "cell_type": "code",
   "execution_count": 57,
   "metadata": {
    "id": "osBAlO52i6H0"
   },
   "outputs": [],
   "source": [
    "#replace column name spaces\n",
    "def replace_spaces() :\n",
    "    # remove special character\n",
    "    dataset.columns = dataset.columns.str.replace(' ', '_')\n",
    "\n",
    "replace_spaces()\n",
    "dataset.rename(columns = {'Distance_(miles)':'Distance'}, inplace = True)\n",
    "dataset['Distance'] = dataset['Distance'].astype(float, errors = 'raise')\n",
    "\n",
    "\n"
   ]
  },
  {
   "cell_type": "code",
   "execution_count": 58,
   "metadata": {
    "colab": {
     "base_uri": "https://localhost:8080/"
    },
    "id": "FhKLcGd3xs2J",
    "outputId": "0c5347d3-519f-47b7-8162-e879f681b222"
   },
   "outputs": [
    {
     "name": "stdout",
     "output_type": "stream",
     "text": [
      "<class 'pandas.core.frame.DataFrame'>\n",
      "RangeIndex: 554 entries, 0 to 553\n",
      "Data columns (total 13 columns):\n",
      " #   Column                Non-Null Count  Dtype  \n",
      "---  ------                --------------  -----  \n",
      " 0   City                  554 non-null    int64  \n",
      " 1   Product_Type          551 non-null    object \n",
      " 2   Trip_or_Order_Status  554 non-null    object \n",
      " 3   Request_Time          554 non-null    object \n",
      " 4   Begin_Trip_Time       554 non-null    object \n",
      " 5   Begin_Trip_Lat        525 non-null    float64\n",
      " 6   Begin_Trip_Lng        525 non-null    float64\n",
      " 7   Dropoff_Time          554 non-null    object \n",
      " 8   Dropoff_Lat           525 non-null    float64\n",
      " 9   Dropoff_Lng           525 non-null    float64\n",
      " 10  Distance              554 non-null    float64\n",
      " 11  Fare_Amount           554 non-null    float64\n",
      " 12  Fare_Currency         551 non-null    object \n",
      "dtypes: float64(6), int64(1), object(6)\n",
      "memory usage: 56.4+ KB\n"
     ]
    },
    {
     "data": {
      "text/plain": [
       "(554, 13)"
      ]
     },
     "execution_count": 58,
     "metadata": {},
     "output_type": "execute_result"
    }
   ],
   "source": [
    "dataset.info()\n",
    "dataset.shape"
   ]
  },
  {
   "cell_type": "code",
   "execution_count": null,
   "metadata": {
    "id": "iI3BbIbIwf2T"
   },
   "outputs": [],
   "source": []
  },
  {
   "cell_type": "code",
   "execution_count": 59,
   "metadata": {
    "colab": {
     "base_uri": "https://localhost:8080/"
    },
    "id": "PYUmXoblsobP",
    "outputId": "8e309662-d332-410d-955a-9a80bd4b0e81"
   },
   "outputs": [
    {
     "data": {
      "text/plain": [
       "City                     0\n",
       "Product_Type             3\n",
       "Trip_or_Order_Status     0\n",
       "Request_Time             0\n",
       "Begin_Trip_Time          0\n",
       "Begin_Trip_Lat          29\n",
       "Begin_Trip_Lng          29\n",
       "Dropoff_Time             0\n",
       "Dropoff_Lat             29\n",
       "Dropoff_Lng             29\n",
       "Distance                 0\n",
       "Fare_Amount              0\n",
       "Fare_Currency            3\n",
       "dtype: int64"
      ]
     },
     "execution_count": 59,
     "metadata": {},
     "output_type": "execute_result"
    }
   ],
   "source": [
    "#check the null values in the dataset\n",
    "dataset.isnull().sum()\n"
   ]
  },
  {
   "cell_type": "code",
   "execution_count": 60,
   "metadata": {
    "id": "CW9IrP6VttM-"
   },
   "outputs": [],
   "source": [
    "#deleting those rows whose number of nulls is more than 50% \n",
    "dataset=dataset.dropna(axis=1,thresh=dataset.shape[0]*0.2,how='all')\n",
    "#dataset.shape"
   ]
  },
  {
   "cell_type": "code",
   "execution_count": 61,
   "metadata": {
    "colab": {
     "base_uri": "https://localhost:8080/"
    },
    "id": "t1CkCaTim_9T",
    "outputId": "7b52a1b7-b49b-4e83-d412-45dcc1569f11"
   },
   "outputs": [
    {
     "name": "stdout",
     "output_type": "stream",
     "text": [
      "UberX                   169\n",
      "uberX                   144\n",
      "uberX VIP                81\n",
      "VIP                      71\n",
      "POOL                     36\n",
      "Pool                     12\n",
      "UberEATS Marketplace     10\n",
      "POOL: MATCHED             8\n",
      "uberPOOL: MATCHED         5\n",
      "uberPOOL                  5\n",
      "Pool: MATCHED             4\n",
      "Black                     3\n",
      "Juntos                    1\n",
      "UberBLACK                 1\n",
      "uberx                     1\n",
      "Name: Product_Type, dtype: int64\n",
      "UberX                   466\n",
      "Pool                     70\n",
      "UberEATS Marketplace     10\n",
      "Black                     4\n",
      "Juntos                    1\n",
      "Name: Product_Type, dtype: int64\n"
     ]
    }
   ],
   "source": [
    "# Checking categories in product_type column\n",
    "print(dataset.Product_Type.value_counts())\n",
    "# Categories reclassification\n",
    "product_mapping = {'UberX':'UberX','uberX':'UberX','uberX VIP':'UberX','VIP':'UberX','POOL':'Pool','POOL: MATCHED':'Pool','UberBLACK': 'Black',\n",
    "                   'uberx':'UberX','uberPOOL':'Pool','uberPOOL: MATCHED':'Pool','Pool: MATCHED':'Pool'}\n",
    "# New categories replacement\n",
    "dataset['Product_Type'].replace(product_mapping, inplace=True)\n",
    "# Checking new categories in product_type column\n",
    "print(dataset.Product_Type.value_counts())\n"
   ]
  },
  {
   "cell_type": "code",
   "execution_count": 62,
   "metadata": {
    "id": "qCYTIgwzoNAq"
   },
   "outputs": [],
   "source": [
    "#since most review is around uber rides\n",
    "dataset = dataset[dataset.Product_Type!='UberEATS Marketplace']"
   ]
  },
  {
   "cell_type": "code",
   "execution_count": 63,
   "metadata": {
    "colab": {
     "base_uri": "https://localhost:8080/"
    },
    "id": "dFmXbw3ZogJH",
    "outputId": "cee43c95-7fa4-4cc6-8497-e3f547a37ba1"
   },
   "outputs": [
    {
     "name": "stdout",
     "output_type": "stream",
     "text": [
      "0     2021-01-13 22:06:46\n",
      "1     2021-01-13 20:21:05\n",
      "2     2021-01-03 00:23:22\n",
      "3     2020-12-11 23:16:33\n",
      "4     2020-12-11 00:35:46\n",
      "              ...        \n",
      "549   2016-06-22 11:07:02\n",
      "550   2016-04-07 00:30:46\n",
      "551   2016-04-06 21:16:52\n",
      "552   2016-04-06 21:12:03\n",
      "553   2015-12-17 23:52:50\n",
      "Name: Request_Time, Length: 544, dtype: datetime64[ns]\n",
      "0     2021-01-13 22:11:10\n",
      "1     2021-01-13 20:27:29\n",
      "2     2021-01-03 00:33:00\n",
      "3     2020-12-11 23:27:32\n",
      "4     2020-12-11 00:46:46\n",
      "              ...        \n",
      "549   2016-06-22 11:14:17\n",
      "550   2016-04-07 00:35:23\n",
      "551   2016-04-06 21:20:44\n",
      "552   1970-01-01 00:00:00\n",
      "553   2015-12-18 00:01:01\n",
      "Name: Begin_Trip_Time, Length: 544, dtype: datetime64[ns]\n",
      "0     2021-01-13 22:29:13\n",
      "1     2021-01-13 20:54:50\n",
      "2     2021-01-03 00:50:56\n",
      "3     2020-12-12 00:32:47\n",
      "4     2020-12-11 00:57:57\n",
      "              ...        \n",
      "549   2016-06-22 11:24:28\n",
      "550   2016-04-07 00:50:14\n",
      "551   2016-04-06 21:41:30\n",
      "552   1970-01-01 00:00:00\n",
      "553   1970-01-01 00:00:00\n",
      "Name: Dropoff_Time, Length: 544, dtype: datetime64[ns]\n"
     ]
    }
   ],
   "source": [
    "# Library for manipulating dates and times\n",
    "from datetime import datetime\n",
    "from datetime import timedelta\n",
    "# Function to convert features to datetime\n",
    "def date_convertion(df, cols):\n",
    "  for col in cols:\n",
    "   df[col] = df[col].apply(lambda x: x.replace(' +0000 UTC', ''))\n",
    "   df[col] = pd.to_datetime(df[col])\n",
    "   print(df[col])\n",
    "  return df\n",
    "\n",
    "# Applying date_convertion function to date features \n",
    "dataset = date_convertion(dataset, ['Request_Time', 'Begin_Trip_Time', 'Dropoff_Time'])"
   ]
  },
  {
   "cell_type": "code",
   "execution_count": null,
   "metadata": {
    "id": "Nal-_WdH3KFs"
   },
   "outputs": [],
   "source": []
  },
  {
   "cell_type": "code",
   "execution_count": 64,
   "metadata": {
    "colab": {
     "base_uri": "https://localhost:8080/",
     "height": 357
    },
    "id": "yp--34YEr0mu",
    "outputId": "513dfd13-4a57-4102-9131-05abb8719e99"
   },
   "outputs": [
    {
     "data": {
      "text/html": [
       "<div>\n",
       "<style scoped>\n",
       "    .dataframe tbody tr th:only-of-type {\n",
       "        vertical-align: middle;\n",
       "    }\n",
       "\n",
       "    .dataframe tbody tr th {\n",
       "        vertical-align: top;\n",
       "    }\n",
       "\n",
       "    .dataframe thead th {\n",
       "        text-align: right;\n",
       "    }\n",
       "</style>\n",
       "<table border=\"1\" class=\"dataframe\">\n",
       "  <thead>\n",
       "    <tr style=\"text-align: right;\">\n",
       "      <th></th>\n",
       "      <th>City</th>\n",
       "      <th>Product_Type</th>\n",
       "      <th>Trip_or_Order_Status</th>\n",
       "      <th>Request_Time</th>\n",
       "      <th>Begin_Trip_Time</th>\n",
       "      <th>Begin_Trip_Lat</th>\n",
       "      <th>Begin_Trip_Lng</th>\n",
       "      <th>Dropoff_Time</th>\n",
       "      <th>Dropoff_Lat</th>\n",
       "      <th>Dropoff_Lng</th>\n",
       "      <th>Distance</th>\n",
       "      <th>Fare_Amount</th>\n",
       "      <th>Fare_Currency</th>\n",
       "      <th>year</th>\n",
       "      <th>month</th>\n",
       "      <th>weekday</th>\n",
       "      <th>time</th>\n",
       "    </tr>\n",
       "  </thead>\n",
       "  <tbody>\n",
       "    <tr>\n",
       "      <th>0</th>\n",
       "      <td>458</td>\n",
       "      <td>Black</td>\n",
       "      <td>COMPLETED</td>\n",
       "      <td>2021-01-13 22:06:46</td>\n",
       "      <td>2021-01-13 22:11:10</td>\n",
       "      <td>-23.599752</td>\n",
       "      <td>-46.715954</td>\n",
       "      <td>2021-01-13 22:29:13</td>\n",
       "      <td>-23.559359</td>\n",
       "      <td>-46.666542</td>\n",
       "      <td>4.84</td>\n",
       "      <td>29.63</td>\n",
       "      <td>BRL</td>\n",
       "      <td>2021</td>\n",
       "      <td>Jan</td>\n",
       "      <td>Wed</td>\n",
       "      <td>22:06</td>\n",
       "    </tr>\n",
       "    <tr>\n",
       "      <th>1</th>\n",
       "      <td>458</td>\n",
       "      <td>UberX</td>\n",
       "      <td>COMPLETED</td>\n",
       "      <td>2021-01-13 20:21:05</td>\n",
       "      <td>2021-01-13 20:27:29</td>\n",
       "      <td>-23.559298</td>\n",
       "      <td>-46.666454</td>\n",
       "      <td>2021-01-13 20:54:50</td>\n",
       "      <td>-23.599585</td>\n",
       "      <td>-46.715717</td>\n",
       "      <td>5.31</td>\n",
       "      <td>20.86</td>\n",
       "      <td>BRL</td>\n",
       "      <td>2021</td>\n",
       "      <td>Jan</td>\n",
       "      <td>Wed</td>\n",
       "      <td>20:21</td>\n",
       "    </tr>\n",
       "    <tr>\n",
       "      <th>2</th>\n",
       "      <td>458</td>\n",
       "      <td>UberX</td>\n",
       "      <td>COMPLETED</td>\n",
       "      <td>2021-01-03 00:23:22</td>\n",
       "      <td>2021-01-03 00:33:00</td>\n",
       "      <td>-23.626593</td>\n",
       "      <td>-46.659410</td>\n",
       "      <td>2021-01-03 00:50:56</td>\n",
       "      <td>-23.559273</td>\n",
       "      <td>-46.666595</td>\n",
       "      <td>5.90</td>\n",
       "      <td>34.23</td>\n",
       "      <td>BRL</td>\n",
       "      <td>2021</td>\n",
       "      <td>Jan</td>\n",
       "      <td>Sun</td>\n",
       "      <td>00:23</td>\n",
       "    </tr>\n",
       "    <tr>\n",
       "      <th>3</th>\n",
       "      <td>458</td>\n",
       "      <td>UberX</td>\n",
       "      <td>COMPLETED</td>\n",
       "      <td>2020-12-11 23:16:33</td>\n",
       "      <td>2020-12-11 23:27:32</td>\n",
       "      <td>-23.559410</td>\n",
       "      <td>-46.666435</td>\n",
       "      <td>2020-12-12 00:32:47</td>\n",
       "      <td>-23.425755</td>\n",
       "      <td>-46.481190</td>\n",
       "      <td>19.74</td>\n",
       "      <td>58.77</td>\n",
       "      <td>BRL</td>\n",
       "      <td>2020</td>\n",
       "      <td>Dec</td>\n",
       "      <td>Fri</td>\n",
       "      <td>23:16</td>\n",
       "    </tr>\n",
       "    <tr>\n",
       "      <th>4</th>\n",
       "      <td>458</td>\n",
       "      <td>UberX</td>\n",
       "      <td>COMPLETED</td>\n",
       "      <td>2020-12-11 00:35:46</td>\n",
       "      <td>2020-12-11 00:46:46</td>\n",
       "      <td>-23.584846</td>\n",
       "      <td>-46.663590</td>\n",
       "      <td>2020-12-11 00:57:57</td>\n",
       "      <td>-23.559261</td>\n",
       "      <td>-46.666510</td>\n",
       "      <td>2.54</td>\n",
       "      <td>12.63</td>\n",
       "      <td>BRL</td>\n",
       "      <td>2020</td>\n",
       "      <td>Dec</td>\n",
       "      <td>Fri</td>\n",
       "      <td>00:35</td>\n",
       "    </tr>\n",
       "  </tbody>\n",
       "</table>\n",
       "</div>"
      ],
      "text/plain": [
       "   City Product_Type Trip_or_Order_Status        Request_Time  \\\n",
       "0   458        Black            COMPLETED 2021-01-13 22:06:46   \n",
       "1   458        UberX            COMPLETED 2021-01-13 20:21:05   \n",
       "2   458        UberX            COMPLETED 2021-01-03 00:23:22   \n",
       "3   458        UberX            COMPLETED 2020-12-11 23:16:33   \n",
       "4   458        UberX            COMPLETED 2020-12-11 00:35:46   \n",
       "\n",
       "      Begin_Trip_Time  Begin_Trip_Lat  Begin_Trip_Lng        Dropoff_Time  \\\n",
       "0 2021-01-13 22:11:10      -23.599752      -46.715954 2021-01-13 22:29:13   \n",
       "1 2021-01-13 20:27:29      -23.559298      -46.666454 2021-01-13 20:54:50   \n",
       "2 2021-01-03 00:33:00      -23.626593      -46.659410 2021-01-03 00:50:56   \n",
       "3 2020-12-11 23:27:32      -23.559410      -46.666435 2020-12-12 00:32:47   \n",
       "4 2020-12-11 00:46:46      -23.584846      -46.663590 2020-12-11 00:57:57   \n",
       "\n",
       "   Dropoff_Lat  Dropoff_Lng  Distance  Fare_Amount Fare_Currency  year month  \\\n",
       "0   -23.559359   -46.666542      4.84        29.63           BRL  2021   Jan   \n",
       "1   -23.599585   -46.715717      5.31        20.86           BRL  2021   Jan   \n",
       "2   -23.559273   -46.666595      5.90        34.23           BRL  2021   Jan   \n",
       "3   -23.425755   -46.481190     19.74        58.77           BRL  2020   Dec   \n",
       "4   -23.559261   -46.666510      2.54        12.63           BRL  2020   Dec   \n",
       "\n",
       "  weekday   time  \n",
       "0     Wed  22:06  \n",
       "1     Wed  20:21  \n",
       "2     Sun  00:23  \n",
       "3     Fri  23:16  \n",
       "4     Fri  00:35  "
      ]
     },
     "execution_count": 64,
     "metadata": {},
     "output_type": "execute_result"
    }
   ],
   "source": [
    "#splitting rides into dates, months,years\n",
    "dataset['year'] = dataset.Request_Time .map(lambda x: datetime.strftime(x,\"%Y\"))\n",
    "dataset['month'] = dataset.Request_Time .map(lambda x: datetime.strftime(x,\"%b\"))\n",
    "dataset['weekday'] = dataset.Request_Time .map(lambda x: datetime.strftime(x,\"%a\"))\n",
    "dataset['time'] = dataset.Request_Time .map(lambda x: datetime.strftime(x,\"%H:%M\"))\n",
    "\n",
    "dataset.head()"
   ]
  },
  {
   "cell_type": "code",
   "execution_count": null,
   "metadata": {
    "id": "2FoCGt6-bl1t"
   },
   "outputs": [],
   "source": []
  },
  {
   "cell_type": "markdown",
   "metadata": {
    "id": "9jcwRZlIuOrj"
   },
   "source": [
    "FEATURE ENGINEERING"
   ]
  },
  {
   "cell_type": "code",
   "execution_count": 65,
   "metadata": {
    "colab": {
     "base_uri": "https://localhost:8080/",
     "height": 565
    },
    "id": "xc8GkwZRuV25",
    "outputId": "8ff07569-b130-465f-9727-d0008a63871d"
   },
   "outputs": [
    {
     "name": "stdout",
     "output_type": "stream",
     "text": [
      "0       7.79\n",
      "1       8.55\n",
      "2       9.50\n",
      "3      31.77\n",
      "4       4.09\n",
      "       ...  \n",
      "549     3.54\n",
      "550     6.57\n",
      "551     5.55\n",
      "552     0.00\n",
      "553     0.00\n",
      "Name: distance_km, Length: 544, dtype: float64\n"
     ]
    },
    {
     "data": {
      "text/html": [
       "<div>\n",
       "<style scoped>\n",
       "    .dataframe tbody tr th:only-of-type {\n",
       "        vertical-align: middle;\n",
       "    }\n",
       "\n",
       "    .dataframe tbody tr th {\n",
       "        vertical-align: top;\n",
       "    }\n",
       "\n",
       "    .dataframe thead th {\n",
       "        text-align: right;\n",
       "    }\n",
       "</style>\n",
       "<table border=\"1\" class=\"dataframe\">\n",
       "  <thead>\n",
       "    <tr style=\"text-align: right;\">\n",
       "      <th></th>\n",
       "      <th>City</th>\n",
       "      <th>Product_Type</th>\n",
       "      <th>Trip_or_Order_Status</th>\n",
       "      <th>Request_Time</th>\n",
       "      <th>Begin_Trip_Time</th>\n",
       "      <th>Begin_Trip_Lat</th>\n",
       "      <th>Begin_Trip_Lng</th>\n",
       "      <th>Dropoff_Time</th>\n",
       "      <th>Dropoff_Lat</th>\n",
       "      <th>Dropoff_Lng</th>\n",
       "      <th>Distance</th>\n",
       "      <th>Fare_Amount</th>\n",
       "      <th>Fare_Currency</th>\n",
       "      <th>year</th>\n",
       "      <th>month</th>\n",
       "      <th>weekday</th>\n",
       "      <th>time</th>\n",
       "      <th>distance_km</th>\n",
       "      <th>amount_km</th>\n",
       "    </tr>\n",
       "  </thead>\n",
       "  <tbody>\n",
       "    <tr>\n",
       "      <th>0</th>\n",
       "      <td>458</td>\n",
       "      <td>Black</td>\n",
       "      <td>COMPLETED</td>\n",
       "      <td>2021-01-13 22:06:46</td>\n",
       "      <td>2021-01-13 22:11:10</td>\n",
       "      <td>-23.599752</td>\n",
       "      <td>-46.715954</td>\n",
       "      <td>2021-01-13 22:29:13</td>\n",
       "      <td>-23.559359</td>\n",
       "      <td>-46.666542</td>\n",
       "      <td>4.84</td>\n",
       "      <td>29.63</td>\n",
       "      <td>BRL</td>\n",
       "      <td>2021</td>\n",
       "      <td>Jan</td>\n",
       "      <td>Wed</td>\n",
       "      <td>22:06</td>\n",
       "      <td>7.79</td>\n",
       "      <td>3.80</td>\n",
       "    </tr>\n",
       "    <tr>\n",
       "      <th>1</th>\n",
       "      <td>458</td>\n",
       "      <td>UberX</td>\n",
       "      <td>COMPLETED</td>\n",
       "      <td>2021-01-13 20:21:05</td>\n",
       "      <td>2021-01-13 20:27:29</td>\n",
       "      <td>-23.559298</td>\n",
       "      <td>-46.666454</td>\n",
       "      <td>2021-01-13 20:54:50</td>\n",
       "      <td>-23.599585</td>\n",
       "      <td>-46.715717</td>\n",
       "      <td>5.31</td>\n",
       "      <td>20.86</td>\n",
       "      <td>BRL</td>\n",
       "      <td>2021</td>\n",
       "      <td>Jan</td>\n",
       "      <td>Wed</td>\n",
       "      <td>20:21</td>\n",
       "      <td>8.55</td>\n",
       "      <td>2.44</td>\n",
       "    </tr>\n",
       "    <tr>\n",
       "      <th>2</th>\n",
       "      <td>458</td>\n",
       "      <td>UberX</td>\n",
       "      <td>COMPLETED</td>\n",
       "      <td>2021-01-03 00:23:22</td>\n",
       "      <td>2021-01-03 00:33:00</td>\n",
       "      <td>-23.626593</td>\n",
       "      <td>-46.659410</td>\n",
       "      <td>2021-01-03 00:50:56</td>\n",
       "      <td>-23.559273</td>\n",
       "      <td>-46.666595</td>\n",
       "      <td>5.90</td>\n",
       "      <td>34.23</td>\n",
       "      <td>BRL</td>\n",
       "      <td>2021</td>\n",
       "      <td>Jan</td>\n",
       "      <td>Sun</td>\n",
       "      <td>00:23</td>\n",
       "      <td>9.50</td>\n",
       "      <td>3.60</td>\n",
       "    </tr>\n",
       "    <tr>\n",
       "      <th>3</th>\n",
       "      <td>458</td>\n",
       "      <td>UberX</td>\n",
       "      <td>COMPLETED</td>\n",
       "      <td>2020-12-11 23:16:33</td>\n",
       "      <td>2020-12-11 23:27:32</td>\n",
       "      <td>-23.559410</td>\n",
       "      <td>-46.666435</td>\n",
       "      <td>2020-12-12 00:32:47</td>\n",
       "      <td>-23.425755</td>\n",
       "      <td>-46.481190</td>\n",
       "      <td>19.74</td>\n",
       "      <td>58.77</td>\n",
       "      <td>BRL</td>\n",
       "      <td>2020</td>\n",
       "      <td>Dec</td>\n",
       "      <td>Fri</td>\n",
       "      <td>23:16</td>\n",
       "      <td>31.77</td>\n",
       "      <td>1.85</td>\n",
       "    </tr>\n",
       "    <tr>\n",
       "      <th>4</th>\n",
       "      <td>458</td>\n",
       "      <td>UberX</td>\n",
       "      <td>COMPLETED</td>\n",
       "      <td>2020-12-11 00:35:46</td>\n",
       "      <td>2020-12-11 00:46:46</td>\n",
       "      <td>-23.584846</td>\n",
       "      <td>-46.663590</td>\n",
       "      <td>2020-12-11 00:57:57</td>\n",
       "      <td>-23.559261</td>\n",
       "      <td>-46.666510</td>\n",
       "      <td>2.54</td>\n",
       "      <td>12.63</td>\n",
       "      <td>BRL</td>\n",
       "      <td>2020</td>\n",
       "      <td>Dec</td>\n",
       "      <td>Fri</td>\n",
       "      <td>00:35</td>\n",
       "      <td>4.09</td>\n",
       "      <td>3.09</td>\n",
       "    </tr>\n",
       "  </tbody>\n",
       "</table>\n",
       "</div>"
      ],
      "text/plain": [
       "   City Product_Type Trip_or_Order_Status        Request_Time  \\\n",
       "0   458        Black            COMPLETED 2021-01-13 22:06:46   \n",
       "1   458        UberX            COMPLETED 2021-01-13 20:21:05   \n",
       "2   458        UberX            COMPLETED 2021-01-03 00:23:22   \n",
       "3   458        UberX            COMPLETED 2020-12-11 23:16:33   \n",
       "4   458        UberX            COMPLETED 2020-12-11 00:35:46   \n",
       "\n",
       "      Begin_Trip_Time  Begin_Trip_Lat  Begin_Trip_Lng        Dropoff_Time  \\\n",
       "0 2021-01-13 22:11:10      -23.599752      -46.715954 2021-01-13 22:29:13   \n",
       "1 2021-01-13 20:27:29      -23.559298      -46.666454 2021-01-13 20:54:50   \n",
       "2 2021-01-03 00:33:00      -23.626593      -46.659410 2021-01-03 00:50:56   \n",
       "3 2020-12-11 23:27:32      -23.559410      -46.666435 2020-12-12 00:32:47   \n",
       "4 2020-12-11 00:46:46      -23.584846      -46.663590 2020-12-11 00:57:57   \n",
       "\n",
       "   Dropoff_Lat  Dropoff_Lng  Distance  Fare_Amount Fare_Currency  year month  \\\n",
       "0   -23.559359   -46.666542      4.84        29.63           BRL  2021   Jan   \n",
       "1   -23.599585   -46.715717      5.31        20.86           BRL  2021   Jan   \n",
       "2   -23.559273   -46.666595      5.90        34.23           BRL  2021   Jan   \n",
       "3   -23.425755   -46.481190     19.74        58.77           BRL  2020   Dec   \n",
       "4   -23.559261   -46.666510      2.54        12.63           BRL  2020   Dec   \n",
       "\n",
       "  weekday   time  distance_km  amount_km  \n",
       "0     Wed  22:06         7.79       3.80  \n",
       "1     Wed  20:21         8.55       2.44  \n",
       "2     Sun  00:23         9.50       3.60  \n",
       "3     Fri  23:16        31.77       1.85  \n",
       "4     Fri  00:35         4.09       3.09  "
      ]
     },
     "execution_count": 65,
     "metadata": {},
     "output_type": "execute_result"
    }
   ],
   "source": [
    "#CONVERTING AND ROUNDING OFF\n",
    "x=dataset.Distance\n",
    "dataset['distance_km'] = round(x*1.60934,2)\n",
    "print(dataset['distance_km'])\n",
    "dataset['amount_km'] = round(dataset.Fare_Amount  /dataset.distance_km,2)\n",
    "dataset.head()"
   ]
  },
  {
   "cell_type": "code",
   "execution_count": 66,
   "metadata": {
    "id": "0kNagaqCu-bB"
   },
   "outputs": [],
   "source": [
    "#calculating time in minutes\n",
    "dataset['request_lead_time'] = dataset.Begin_Trip_Time  -dataset.Request_Time \n",
    "dataset['request_lead_time'] = dataset['request_lead_time'].apply(lambda x: round(x.total_seconds()/60,1))"
   ]
  },
  {
   "cell_type": "code",
   "execution_count": 67,
   "metadata": {
    "id": "Cv_U2d7JuV4u"
   },
   "outputs": [],
   "source": [
    "#calculating time in minutes\n",
    "dataset['trip_duration'] = dataset.Dropoff_Time - dataset.Begin_Trip_Time \n",
    "dataset['trip_duration'] = dataset['trip_duration'].apply(lambda x: round(x.total_seconds()/60,1))"
   ]
  },
  {
   "cell_type": "markdown",
   "metadata": {
    "id": "oJQE1BQIb60Z"
   },
   "source": [
    "DATA Analysis"
   ]
  },
  {
   "cell_type": "code",
   "execution_count": 68,
   "metadata": {
    "id": "Mroaht3pby_b"
   },
   "outputs": [],
   "source": [
    "completed_rides = dataset[(dataset.Trip_or_Order_Status !='CANCELED')&(dataset.Trip_or_Order_Status!='DRIVER_CANCELED')]"
   ]
  },
  {
   "cell_type": "code",
   "execution_count": 69,
   "metadata": {
    "colab": {
     "base_uri": "https://localhost:8080/",
     "height": 451
    },
    "id": "JAA1gXtcdgjS",
    "outputId": "b686df54-88d1-44e7-a315-f92204c5ae44"
   },
   "outputs": [
    {
     "name": "stdout",
     "output_type": "stream",
     "text": [
      "Total trips:  447\n",
      "2016     17\n",
      "2017    120\n",
      "2018    149\n",
      "2019    106\n",
      "2020     52\n",
      "2021      3\n",
      "Name: year, dtype: int64\n"
     ]
    },
    {
     "data": {
      "text/plain": [
       "Text(0.5, 1.0, 'Total trips completed')"
      ]
     },
     "execution_count": 69,
     "metadata": {},
     "output_type": "execute_result"
    },
    {
     "data": {
      "image/png": "[encoded data removed]",
      "text/plain": [
       "<Figure size 432x288 with 1 Axes>"
      ]
     },
     "metadata": {
      "needs_background": "light"
     },
     "output_type": "display_data"
    }
   ],
   "source": [
    "#trips completed in past\n",
    "print('Total trips: ', completed_rides.Trip_or_Order_Status .count())\n",
    "print(completed_rides.year.value_counts().sort_index(ascending=True))\n",
    "sns.countplot(data=completed_rides, x='year',order=['2016','2017','2018','2019','2020','2021'], palette='bright');\n",
    "plt.title('Total trips completed')\n"
   ]
  },
  {
   "cell_type": "code",
   "execution_count": 70,
   "metadata": {
    "colab": {
     "base_uri": "https://localhost:8080/",
     "height": 695
    },
    "id": "6UvCqU7iepzP",
    "outputId": "64e0e202-c5a5-49d1-80b0-8e93658935f4"
   },
   "outputs": [
    {
     "name": "stdout",
     "output_type": "stream",
     "text": [
      "Total trips:  544\n",
      "COMPLETED          81.6\n",
      "CANCELED           16.0\n",
      "DRIVER_CANCELED     1.8\n",
      "UNFULFILLED         0.6\n",
      "Name: Trip_or_Order_Status, dtype: float64\n"
     ]
    },
    {
     "data": {
      "text/plain": [
       "Text(0.5, 1.0, 'Order status')"
      ]
     },
     "execution_count": 70,
     "metadata": {},
     "output_type": "execute_result"
    },
    {
     "data": {
      "image/png": "[encoded data removed]",
      "text/plain": [
       "<Figure size 432x288 with 1 Axes>"
      ]
     },
     "metadata": {
      "needs_background": "light"
     },
     "output_type": "display_data"
    },
    {
     "data": {
      "image/png": "[encoded data removed]",
      "text/plain": [
       "<Figure size 432x288 with 1 Axes>"
      ]
     },
     "metadata": {
      "needs_background": "light"
     },
     "output_type": "display_data"
    }
   ],
   "source": [
    "#trips were completed or canceled?\n",
    "print('Total trips: ', dataset.Trip_or_Order_Status.count())\n",
    "print(round(dataset.Trip_or_Order_Status.value_counts()/dataset.Trip_or_Order_Status.size*100,1))\n",
    "sns.countplot(data=dataset, x='year', order=['2015','2016','2017','2018','2019','2020','2021'], hue='Trip_or_Order_Status', palette='coolwarm');\n",
    "dataset.groupby(by=['year'])['Trip_or_Order_Status'].value_counts(normalize=True).unstack('Trip_or_Order_Status').plot.bar(stacked=True);\n",
    "plt.title(\"Order status\")"
   ]
  },
  {
   "cell_type": "code",
   "execution_count": 71,
   "metadata": {
    "colab": {
     "base_uri": "https://localhost:8080/",
     "height": 174
    },
    "id": "Fy43iiOgf5u1",
    "outputId": "5399d93b-b8ff-4cbe-b727-c34d3f33c617"
   },
   "outputs": [
    {
     "data": {
      "text/plain": [
       "\"\\nimport folium\\nfrom folium import plugins\\ncoord=[]\\n\\ndataset['Dropoff_Lng'].fillna((dataset['Dropoff_Lng'].median), inplace=True)\\ndataset['Dropoff_Lat'].fillna((dataset['Dropoff_Lat'].median), inplace=True)\\n\\nprint(dataset['Dropoff_Lat'].isnull().sum()) \\n\\nfor lat,lng in zip(completed_rides.Dropoff_Lat.values,completed_rides.Dropoff_Lng .values):\\n  coord.append([lat,lng])\\nmap = folium.Map(\\n    location=[-23.5489,-46.6388],\\n    tiles='Stamen Terrain',\\n    zoom_start=7,\\n    width='80%', \\n    height='50%',\\n    control_scale=True)\\n#map.add_child(plugins.HeatMap(coord))\\nmap = folium.Map([48, 5], tiles='stamentoner', zoom_start=6)\\nmap.add_child(plugins.HeatMap(coord))\\nmap\\n\""
      ]
     },
     "execution_count": 71,
     "metadata": {},
     "output_type": "execute_result"
    }
   ],
   "source": [
    "#NOT WORKING :(\n",
    "#most of the layoffs take place?\n",
    "#plot aheap map which shows maximum visited \n",
    "\"\"\"\n",
    "import folium\n",
    "from folium import plugins\n",
    "coord=[]\n",
    "\n",
    "dataset['Dropoff_Lng'].fillna((dataset['Dropoff_Lng'].median), inplace=True)\n",
    "dataset['Dropoff_Lat'].fillna((dataset['Dropoff_Lat'].median), inplace=True)\n",
    "\n",
    "print(dataset['Dropoff_Lat'].isnull().sum()) \n",
    "\n",
    "for lat,lng in zip(completed_rides.Dropoff_Lat.values,completed_rides.Dropoff_Lng .values):\n",
    "  coord.append([lat,lng])\n",
    "map = folium.Map(\n",
    "    location=[-23.5489,-46.6388],\n",
    "    tiles='Stamen Terrain',\n",
    "    zoom_start=7,\n",
    "    width='80%', \n",
    "    height='50%',\n",
    "    control_scale=True)\n",
    "#map.add_child(plugins.HeatMap(coord))\n",
    "map = folium.Map([48, 5], tiles='stamentoner', zoom_start=6)\n",
    "map.add_child(plugins.HeatMap(coord))\n",
    "map\n",
    "\"\"\""
   ]
  },
  {
   "cell_type": "code",
   "execution_count": 72,
   "metadata": {
    "colab": {
     "base_uri": "https://localhost:8080/",
     "height": 355
    },
    "id": "c3BvQJp2nY1a",
    "outputId": "531a5a32-2869-464e-a281-7917172ae3ac"
   },
   "outputs": [
    {
     "name": "stdout",
     "output_type": "stream",
     "text": [
      "       Product_Type     %\n",
      "UberX           401  89.7\n",
      "Pool             39   8.7\n",
      "Black             4   0.9\n"
     ]
    },
    {
     "data": {
      "image/png": "[encoded data removed]",
      "text/plain": [
       "<Figure size 432x288 with 1 Axes>"
      ]
     },
     "metadata": {
      "needs_background": "light"
     },
     "output_type": "display_data"
    }
   ],
   "source": [
    "# Creating a serie with product types count\n",
    "pt_rides = pd.Series(completed_rides.Product_Type.value_counts().sort_index(ascending=False))\n",
    "# Transforming serie in dataframe\n",
    "df = pd.DataFrame(pt_rides)\n",
    "# Including new column with trips portion\n",
    "df['%'] = (completed_rides.Product_Type.value_counts().sort_index(ascending=False)/completed_rides.Product_Type.size*100).round(1)\n",
    "#Renaming columns labels\n",
    "df.rename(columns={'product_type':'Total Rides'}, inplace=True)\n",
    "print(df)\n",
    "# Plotting product types count\n",
    "completed_rides['Product_Type'].value_counts().plot(kind='bar');"
   ]
  },
  {
   "cell_type": "code",
   "execution_count": 73,
   "metadata": {
    "colab": {
     "base_uri": "https://localhost:8080/"
    },
    "id": "Z3rAKaxNkAvH",
    "outputId": "cdf1e98f-c97f-4747-917f-87d2f6b550ea"
   },
   "outputs": [
    {
     "name": "stdout",
     "output_type": "stream",
     "text": [
      "<class 'pandas.core.frame.DataFrame'>\n",
      "Int64Index: 447 entries, 0 to 551\n",
      "Data columns (total 21 columns):\n",
      " #   Column                Non-Null Count  Dtype         \n",
      "---  ------                --------------  -----         \n",
      " 0   City                  447 non-null    int64         \n",
      " 1   Product_Type          444 non-null    object        \n",
      " 2   Trip_or_Order_Status  447 non-null    object        \n",
      " 3   Request_Time          447 non-null    datetime64[ns]\n",
      " 4   Begin_Trip_Time       447 non-null    datetime64[ns]\n",
      " 5   Begin_Trip_Lat        444 non-null    float64       \n",
      " 6   Begin_Trip_Lng        444 non-null    float64       \n",
      " 7   Dropoff_Time          447 non-null    datetime64[ns]\n",
      " 8   Dropoff_Lat           444 non-null    float64       \n",
      " 9   Dropoff_Lng           444 non-null    float64       \n",
      " 10  Distance              447 non-null    float64       \n",
      " 11  Fare_Amount           447 non-null    float64       \n",
      " 12  Fare_Currency         444 non-null    object        \n",
      " 13  year                  447 non-null    object        \n",
      " 14  month                 447 non-null    object        \n",
      " 15  weekday               447 non-null    object        \n",
      " 16  time                  447 non-null    object        \n",
      " 17  distance_km           447 non-null    float64       \n",
      " 18  amount_km             444 non-null    float64       \n",
      " 19  request_lead_time     447 non-null    float64       \n",
      " 20  trip_duration         447 non-null    float64       \n",
      "dtypes: datetime64[ns](3), float64(10), int64(1), object(7)\n",
      "memory usage: 93.0+ KB\n"
     ]
    }
   ],
   "source": [
    "completed_rides.info()"
   ]
  },
  {
   "cell_type": "code",
   "execution_count": 74,
   "metadata": {
    "colab": {
     "base_uri": "https://localhost:8080/",
     "height": 463
    },
    "id": "_Q-S7446nv1t",
    "outputId": "90cf058c-084b-48dc-8474-b7cbe40a0539"
   },
   "outputs": [
    {
     "name": "stdout",
     "output_type": "stream",
     "text": [
      "Avg. fare: 19.1 BRL\n",
      "Avg. distance: 8.0 km\n",
      "Avg. fare/km: 2.4 BRL/km\n"
     ]
    },
    {
     "name": "stderr",
     "output_type": "stream",
     "text": [
      "C:\\Users\\admin\\AppData\\Local\\Temp/ipykernel_16008/306782168.py:2: SettingWithCopyWarning: \n",
      "A value is trying to be set on a copy of a slice from a DataFrame.\n",
      "Try using .loc[row_indexer,col_indexer] = value instead\n",
      "\n",
      "See the caveats in the documentation: https://pandas.pydata.org/pandas-docs/stable/user_guide/indexing.html#returning-a-view-versus-a-copy\n",
      "  completed_rides['trip_duration']=completed_rides['Dropoff_Time']-completed_rides['Begin_Trip_Time']\n"
     ]
    },
    {
     "ename": "TypeError",
     "evalue": "type Timedelta doesn't define __round__ method",
     "output_type": "error",
     "traceback": [
      "\u001b[1;31m---------------------------------------------------------------------------\u001b[0m",
      "\u001b[1;31mTypeError\u001b[0m                                 Traceback (most recent call last)",
      "\u001b[1;32m~\\AppData\\Local\\Temp/ipykernel_16008/306782168.py\u001b[0m in \u001b[0;36m<module>\u001b[1;34m\u001b[0m\n\u001b[0;32m      4\u001b[0m \u001b[0mprint\u001b[0m\u001b[1;33m(\u001b[0m\u001b[1;34m'Avg. distance:'\u001b[0m\u001b[1;33m,\u001b[0m\u001b[0mround\u001b[0m\u001b[1;33m(\u001b[0m\u001b[0mcompleted_rides\u001b[0m\u001b[1;33m.\u001b[0m\u001b[0mdistance_km\u001b[0m\u001b[1;33m.\u001b[0m\u001b[0mmean\u001b[0m\u001b[1;33m(\u001b[0m\u001b[1;33m)\u001b[0m\u001b[1;33m,\u001b[0m\u001b[1;36m1\u001b[0m\u001b[1;33m)\u001b[0m\u001b[1;33m,\u001b[0m\u001b[1;34m'km'\u001b[0m\u001b[1;33m)\u001b[0m\u001b[1;33m\u001b[0m\u001b[1;33m\u001b[0m\u001b[0m\n\u001b[0;32m      5\u001b[0m \u001b[0mprint\u001b[0m\u001b[1;33m(\u001b[0m\u001b[1;34m'Avg. fare/km:'\u001b[0m\u001b[1;33m,\u001b[0m\u001b[0mround\u001b[0m\u001b[1;33m(\u001b[0m\u001b[0mcompleted_rides\u001b[0m\u001b[1;33m.\u001b[0m\u001b[0mFare_Amount\u001b[0m\u001b[1;33m.\u001b[0m\u001b[0msum\u001b[0m\u001b[1;33m(\u001b[0m\u001b[1;33m)\u001b[0m\u001b[1;33m/\u001b[0m\u001b[0mcompleted_rides\u001b[0m\u001b[1;33m.\u001b[0m\u001b[0mdistance_km\u001b[0m\u001b[1;33m.\u001b[0m\u001b[0msum\u001b[0m\u001b[1;33m(\u001b[0m\u001b[1;33m)\u001b[0m\u001b[1;33m,\u001b[0m\u001b[1;36m1\u001b[0m\u001b[1;33m)\u001b[0m\u001b[1;33m,\u001b[0m\u001b[1;34m'BRL/km'\u001b[0m\u001b[1;33m)\u001b[0m\u001b[1;33m\u001b[0m\u001b[1;33m\u001b[0m\u001b[0m\n\u001b[1;32m----> 6\u001b[1;33m \u001b[0mprint\u001b[0m\u001b[1;33m(\u001b[0m\u001b[1;34m'Avg. time spent on trips:'\u001b[0m\u001b[1;33m,\u001b[0m\u001b[0mround\u001b[0m\u001b[1;33m(\u001b[0m\u001b[0mcompleted_rides\u001b[0m\u001b[1;33m.\u001b[0m\u001b[0mtrip_duration\u001b[0m\u001b[1;33m.\u001b[0m\u001b[0mmean\u001b[0m\u001b[1;33m(\u001b[0m\u001b[1;33m)\u001b[0m\u001b[1;33m,\u001b[0m\u001b[1;36m1\u001b[0m\u001b[1;33m)\u001b[0m\u001b[1;33m,\u001b[0m\u001b[1;34m'minutes'\u001b[0m\u001b[1;33m)\u001b[0m\u001b[1;33m\u001b[0m\u001b[1;33m\u001b[0m\u001b[0m\n\u001b[0m\u001b[0;32m      7\u001b[0m \u001b[0mprint\u001b[0m\u001b[1;33m(\u001b[0m\u001b[1;34m''\u001b[0m\u001b[1;33m)\u001b[0m\u001b[1;33m\u001b[0m\u001b[1;33m\u001b[0m\u001b[0m\n\u001b[0;32m      8\u001b[0m \u001b[0mprint\u001b[0m\u001b[1;33m(\u001b[0m\u001b[1;34m'Total fare amount:'\u001b[0m\u001b[1;33m,\u001b[0m \u001b[0mround\u001b[0m\u001b[1;33m(\u001b[0m\u001b[0mcompleted_rides\u001b[0m\u001b[1;33m.\u001b[0m\u001b[0mFare_Amount\u001b[0m\u001b[1;33m.\u001b[0m\u001b[0msum\u001b[0m\u001b[1;33m(\u001b[0m\u001b[1;33m)\u001b[0m\u001b[1;33m,\u001b[0m\u001b[1;36m1\u001b[0m\u001b[1;33m)\u001b[0m\u001b[1;33m,\u001b[0m\u001b[1;34m'BRL'\u001b[0m\u001b[1;33m)\u001b[0m\u001b[1;33m\u001b[0m\u001b[1;33m\u001b[0m\u001b[0m\n",
      "\u001b[1;31mTypeError\u001b[0m: type Timedelta doesn't define __round__ method"
     ]
    }
   ],
   "source": [
    "#how much is the fare, distance, amount, and time spent on the ride?\n",
    "completed_rides['trip_duration']=completed_rides['Dropoff_Time']-completed_rides['Begin_Trip_Time']\n",
    "print('Avg. fare:', round(completed_rides.Fare_Amount.mean(),1),'BRL')\n",
    "print('Avg. distance:',round(completed_rides.distance_km.mean(),1),'km')\n",
    "print('Avg. fare/km:',round(completed_rides.Fare_Amount.sum()/completed_rides.distance_km.sum(),1),'BRL/km')\n",
    "print('Avg. time spent on trips:',round(completed_rides.trip_duration.mean(),1),'minutes')\n",
    "print('')\n",
    "print('Total fare amount:', round(completed_rides.Fare_Amount.sum(),1),'BRL')\n",
    "print('Total distance:',round(completed_rides.distance_km.sum(),1),'km')\n",
    "print('Total time spent on trips:',round(completed_rides.trip_duration.sum()/60,1),'hours')"
   ]
  },
  {
   "cell_type": "code",
   "execution_count": null,
   "metadata": {
    "colab": {
     "base_uri": "https://localhost:8080/",
     "height": 269
    },
    "id": "qiHmEb_ooPWm",
    "outputId": "e4b02d19-2cdd-4b8f-d6fc-afef97f4f3cf"
   },
   "outputs": [],
   "source": [
    "#Which days of the week have the highest number of rides per kilometer?\n",
    "#overlapping pivot tables to get weighted average\n",
    "amount_table = completed_rides.pivot_table(values='Fare_Amount',aggfunc='sum',columns='weekday', index='year').round(1)\n",
    "column_order = ['Mon','Tue','Wed','Thu','Fri','Sat','Sun']\n",
    "amount_table = amount_table.reindex(column_order, axis=1)\n",
    "distance_table = completed_rides.pivot_table(values='distance_km',aggfunc='sum',columns='weekday', index='year').round(1)\n",
    "distance_table = distance_table.reindex(column_order, axis=1)\n",
    "(amount_table/distance_table).round(1)"
   ]
  },
  {
   "cell_type": "code",
   "execution_count": null,
   "metadata": {
    "colab": {
     "base_uri": "https://localhost:8080/",
     "height": 223
    },
    "id": "CzNi6X9Oovgw",
    "outputId": "b31a252d-5127-4130-d7a0-b983843658e0"
   },
   "outputs": [],
   "source": [
    "aux_serie = round((completed_rides.groupby('weekday')['Fare_Amount'].sum()/completed_rides.groupby('weekday')['distance_km'].sum()),2)                                                                                                                              \n",
    "amount_km_df = pd.DataFrame(aux_serie)\n",
    "amount_km_df = amount_km_df.reset_index()\n",
    "amount_km_df.rename(columns={'weekday':'weekday',0:'values'},inplace=True)\n",
    "sns.catplot(x='weekday', y='values', data=amount_km_df, kind='bar', height=4, aspect=3, order=['Mon','Tue','Wed','Thu','Fri','Sat','Sun'],palette='magma');"
   ]
  },
  {
   "cell_type": "code",
   "execution_count": null,
   "metadata": {
    "colab": {
     "base_uri": "https://localhost:8080/",
     "height": 240
    },
    "id": "LWZ8ddGLovjj",
    "outputId": "34939985-9d1c-414d-9102-27aa65c621fd"
   },
   "outputs": [],
   "source": [
    "rides_amount_km = completed_rides[completed_rides.amount_km==completed_rides.amount_km.max()]\n",
    "rides_amount_km = rides_amount_km.append(completed_rides[completed_rides.amount_km==completed_rides.amount_km.min()])\n",
    "rides_amount_km"
   ]
  },
  {
   "cell_type": "code",
   "execution_count": null,
   "metadata": {
    "colab": {
     "base_uri": "https://localhost:8080/"
    },
    "id": "a3TBhDOxquUj",
    "outputId": "de376a61-d616-4431-ff8b-f101fbedd558"
   },
   "outputs": [],
   "source": [
    "#average lead time before requesting a trip?\n",
    "#seems incorrect!\n",
    "print(round(completed_rides.request_lead_time.mean(),1),'minutes')"
   ]
  },
  {
   "cell_type": "code",
   "execution_count": null,
   "metadata": {
    "colab": {
     "base_uri": "https://localhost:8080/"
    },
    "id": "XWv043RV-kK4",
    "outputId": "1d57c5a3-82c0-4ff3-d738-bebb94e65b0f"
   },
   "outputs": [],
   "source": [
    "#to find maximum frequency rides\n",
    "#print(dataset)\n",
    "dataset.info()"
   ]
  },
  {
   "cell_type": "code",
   "execution_count": null,
   "metadata": {
    "colab": {
     "base_uri": "https://localhost:8080/"
    },
    "id": "KehfHiNk_57h",
    "outputId": "08dec741-bd78-4427-d57b-5da6ccf114ea"
   },
   "outputs": [],
   "source": [
    "data_clustering=dataset[['Dropoff_Lat','Dropoff_Lng']]#,\n",
    "data_clustering.isnull().sum()\n",
    "data_clustering.fillna(data_clustering.median(),inplace=True)\n",
    "print(\"***\")\n",
    "data_clustering.isnull().sum()"
   ]
  },
  {
   "cell_type": "code",
   "execution_count": 75,
   "metadata": {
    "id": "ED58zOXUBYGm"
   },
   "outputs": [],
   "source": [
    "from sklearn.cluster import KMeans"
   ]
  },
  {
   "cell_type": "markdown",
   "metadata": {
    "id": "jE4nLa5WDD2A"
   },
   "source": [
    "But visualizing the data alone cannot always give the right answer. Hence we demonstrate the following steps.\n",
    "We now define the following:-\n",
    "\n",
    "Distortion: It is calculated as the average of the squared distances from the cluster centers of the respective clusters. Typically, the Euclidean distance metric is used.\n",
    "\n",
    "\n",
    "Inertia: It is the sum of squared distances of samples to their closest cluster center."
   ]
  },
  {
   "cell_type": "code",
   "execution_count": 76,
   "metadata": {
    "colab": {
     "base_uri": "https://localhost:8080/",
     "height": 513
    },
    "id": "mJhJSq1DArU_",
    "outputId": "e89a23d7-539c-4b33-819d-22c0981e69c0"
   },
   "outputs": [
    {
     "name": "stderr",
     "output_type": "stream",
     "text": [
      "C:\\Users\\admin\\anaconda3\\lib\\site-packages\\sklearn\\cluster\\_kmeans.py:1332: UserWarning: KMeans is known to have a memory leak on Windows with MKL, when there are less chunks than available threads. You can avoid it by setting the environment variable OMP_NUM_THREADS=3.\n",
      "  warnings.warn(\n",
      "C:\\Users\\admin\\anaconda3\\lib\\site-packages\\sklearn\\cluster\\_kmeans.py:1332: UserWarning: KMeans is known to have a memory leak on Windows with MKL, when there are less chunks than available threads. You can avoid it by setting the environment variable OMP_NUM_THREADS=3.\n",
      "  warnings.warn(\n",
      "C:\\Users\\admin\\anaconda3\\lib\\site-packages\\sklearn\\cluster\\_kmeans.py:1332: UserWarning: KMeans is known to have a memory leak on Windows with MKL, when there are less chunks than available threads. You can avoid it by setting the environment variable OMP_NUM_THREADS=3.\n",
      "  warnings.warn(\n",
      "C:\\Users\\admin\\anaconda3\\lib\\site-packages\\sklearn\\cluster\\_kmeans.py:1332: UserWarning: KMeans is known to have a memory leak on Windows with MKL, when there are less chunks than available threads. You can avoid it by setting the environment variable OMP_NUM_THREADS=3.\n",
      "  warnings.warn(\n",
      "C:\\Users\\admin\\anaconda3\\lib\\site-packages\\sklearn\\cluster\\_kmeans.py:1332: UserWarning: KMeans is known to have a memory leak on Windows with MKL, when there are less chunks than available threads. You can avoid it by setting the environment variable OMP_NUM_THREADS=3.\n",
      "  warnings.warn(\n",
      "C:\\Users\\admin\\anaconda3\\lib\\site-packages\\sklearn\\cluster\\_kmeans.py:1332: UserWarning: KMeans is known to have a memory leak on Windows with MKL, when there are less chunks than available threads. You can avoid it by setting the environment variable OMP_NUM_THREADS=3.\n",
      "  warnings.warn(\n",
      "C:\\Users\\admin\\anaconda3\\lib\\site-packages\\sklearn\\cluster\\_kmeans.py:1332: UserWarning: KMeans is known to have a memory leak on Windows with MKL, when there are less chunks than available threads. You can avoid it by setting the environment variable OMP_NUM_THREADS=3.\n",
      "  warnings.warn(\n",
      "C:\\Users\\admin\\anaconda3\\lib\\site-packages\\sklearn\\cluster\\_kmeans.py:1332: UserWarning: KMeans is known to have a memory leak on Windows with MKL, when there are less chunks than available threads. You can avoid it by setting the environment variable OMP_NUM_THREADS=3.\n",
      "  warnings.warn(\n",
      "C:\\Users\\admin\\anaconda3\\lib\\site-packages\\sklearn\\cluster\\_kmeans.py:1332: UserWarning: KMeans is known to have a memory leak on Windows with MKL, when there are less chunks than available threads. You can avoid it by setting the environment variable OMP_NUM_THREADS=3.\n",
      "  warnings.warn(\n"
     ]
    },
    {
     "data": {
      "image/png": "[encoded data removed]",
      "text/plain": [
       "<Figure size 576x576 with 1 Axes>"
      ]
     },
     "metadata": {
      "needs_background": "light"
     },
     "output_type": "display_data"
    }
   ],
   "source": [
    "#to find number of clusters\n",
    "distortions=[]\n",
    "K=range(1,10)\n",
    "for k in K :\n",
    "  kmeanModel=KMeans(n_clusters=k)\n",
    "  kmeanModel.fit(data_clustering)\n",
    "  distortions.append(kmeanModel.inertia_)\n",
    "plt.figure(figsize=(8,8))\n",
    "plt.plot(K, distortions, 'bx-')\n",
    "plt.xlabel('k')\n",
    "plt.ylabel('Distortion')\n",
    "plt.title('The Elbow Method showing the optimal k')\n",
    "plt.show()\n"
   ]
  },
  {
   "cell_type": "code",
   "execution_count": 77,
   "metadata": {
    "colab": {
     "base_uri": "https://localhost:8080/"
    },
    "id": "WC7w1oWKDSwP",
    "outputId": "f7120c11-4bb6-410b-e766-2d929cfab59c"
   },
   "outputs": [
    {
     "name": "stderr",
     "output_type": "stream",
     "text": [
      "C:\\Users\\admin\\anaconda3\\lib\\site-packages\\sklearn\\cluster\\_kmeans.py:1332: UserWarning: KMeans is known to have a memory leak on Windows with MKL, when there are less chunks than available threads. You can avoid it by setting the environment variable OMP_NUM_THREADS=3.\n",
      "  warnings.warn(\n"
     ]
    },
    {
     "name": "stdout",
     "output_type": "stream",
     "text": [
      "[[-23.57007549 -46.63466303]\n",
      " [-22.90257745 -43.12452045]\n",
      " [-23.46812375 -45.09692325]]\n"
     ]
    }
   ],
   "source": [
    "#hence we find that suitable number of cluster is 3\n",
    "kmeans=KMeans(n_clusters=3,init=\"k-means++\",random_state=42)\n",
    "label=kmeans.fit_predict(data_clustering)\n",
    "print(kmeans.cluster_centers_)"
   ]
  },
  {
   "cell_type": "code",
   "execution_count": 78,
   "metadata": {
    "colab": {
     "base_uri": "https://localhost:8080/",
     "height": 347
    },
    "id": "UP9l6r1EGdtI",
    "outputId": "b9028053-6d5b-4346-bf7e-202b5d726b55"
   },
   "outputs": [
    {
     "name": "stdout",
     "output_type": "stream",
     "text": [
      "Centroids : [[-23.57007549 -46.63466303]\n",
      " [-22.90257745 -43.12452045]\n",
      " [-23.46812375 -45.09692325]]\n"
     ]
    },
    {
     "data": {
      "image/png": "[encoded data removed]",
      "text/plain": [
       "<Figure size 576x576 with 1 Axes>"
      ]
     },
     "metadata": {
      "needs_background": "light"
     },
     "output_type": "display_data"
    }
   ],
   "source": [
    "#plotting clusters\n",
    "plt.figure(figsize=(8,8))\n",
    "clustered_0=data_clustering[label == 0]\n",
    "clustered_1=data_clustering[label==1]\n",
    "clustered_2=data_clustering[label==2]\n",
    "\n",
    "plt.scatter(clustered_0['Dropoff_Lat'], clustered_0['Dropoff_Lng'] , color = 'red',s=50)\n",
    "plt.scatter(clustered_1['Dropoff_Lat'] , clustered_1['Dropoff_Lng'] , color = 'green',s=50)\n",
    "plt.scatter(clustered_2['Dropoff_Lat'] , clustered_2['Dropoff_Lng'] , color = 'blue',s=50)\n",
    "\n",
    "sns.scatterplot(data=data_clustering, x=clustered_0['Dropoff_Lat'], y=clustered_0['Dropoff_Lng'], style=dataset['Trip_or_Order_Status'],s=80,color=\"red\")\n",
    "sns.scatterplot(data=data_clustering, x=clustered_1['Dropoff_Lat'], y=clustered_1['Dropoff_Lng'], style=dataset['Trip_or_Order_Status'],s=80,color='green')\n",
    "sns.scatterplot(data=data_clustering, x=clustered_2['Dropoff_Lat'], y=clustered_2['Dropoff_Lng'], style=dataset['Trip_or_Order_Status'],s=80,color='blue')\n",
    "\n",
    "#plotting cluster centroids\n",
    "centroids = kmeans.cluster_centers_\n",
    " \n",
    "#plotting the results:\n",
    "\n",
    "plt.scatter(centroids[:,0] , centroids[:,1] ,marker='^', s = 50, color = 'black')\n",
    "#plt.legend(custom, ['Diesel','Petrol','CNG','Hybrid','Electric','CNG + Petrol'], loc='lower right')\n",
    "\n",
    "handles, labels = plt.gca().get_legend_handles_labels()\n",
    "by_label = dict(zip(labels, handles))\n",
    "plt.legend(by_label.values(), by_label.keys())\n",
    "plt.title(\"Frequency  of  rides\")\n",
    "plt.xlabel(\"Latitude\")\n",
    "plt.ylabel(\"Longitude\")\n",
    "print(\"Centroids :\",centroids)\n",
    "plt.show()\n"
   ]
  },
  {
   "cell_type": "code",
   "execution_count": 79,
   "metadata": {
    "colab": {
     "base_uri": "https://localhost:8080/"
    },
    "id": "vPSN-BxeNinB",
    "outputId": "9111c284-743e-4504-9acf-3cdf1517b6bd"
   },
   "outputs": [
    {
     "data": {
      "text/plain": [
       "<bound method DataFrame.info of      City Product_Type Trip_or_Order_Status        Request_Time  \\\n",
       "0     458        Black            COMPLETED 2021-01-13 22:06:46   \n",
       "1     458        UberX            COMPLETED 2021-01-13 20:21:05   \n",
       "2     458        UberX            COMPLETED 2021-01-03 00:23:22   \n",
       "3     458        UberX            COMPLETED 2020-12-11 23:16:33   \n",
       "4     458        UberX            COMPLETED 2020-12-11 00:35:46   \n",
       "..    ...          ...                  ...                 ...   \n",
       "549   458         Pool            COMPLETED 2016-06-22 11:07:02   \n",
       "550   458        UberX            COMPLETED 2016-04-07 00:30:46   \n",
       "551   458        UberX            COMPLETED 2016-04-06 21:16:52   \n",
       "552   458        UberX             CANCELED 2016-04-06 21:12:03   \n",
       "553   458        UberX             CANCELED 2015-12-17 23:52:50   \n",
       "\n",
       "        Begin_Trip_Time  Begin_Trip_Lat  Begin_Trip_Lng        Dropoff_Time  \\\n",
       "0   2021-01-13 22:11:10      -23.599752      -46.715954 2021-01-13 22:29:13   \n",
       "1   2021-01-13 20:27:29      -23.559298      -46.666454 2021-01-13 20:54:50   \n",
       "2   2021-01-03 00:33:00      -23.626593      -46.659410 2021-01-03 00:50:56   \n",
       "3   2020-12-11 23:27:32      -23.559410      -46.666435 2020-12-12 00:32:47   \n",
       "4   2020-12-11 00:46:46      -23.584846      -46.663590 2020-12-11 00:57:57   \n",
       "..                  ...             ...             ...                 ...   \n",
       "549 2016-06-22 11:14:17      -23.616073      -46.665949 2016-06-22 11:24:28   \n",
       "550 2016-04-07 00:35:23      -23.569478      -46.672408 2016-04-07 00:50:14   \n",
       "551 2016-04-06 21:20:44      -23.602608      -46.645084 2016-04-06 21:41:30   \n",
       "552 1970-01-01 00:00:00      -23.601718      -46.646871 1970-01-01 00:00:00   \n",
       "553 2015-12-18 00:01:01      -23.607114      -46.566483 1970-01-01 00:00:00   \n",
       "\n",
       "     Dropoff_Lat  Dropoff_Lng  ...  Fare_Amount  Fare_Currency  year month  \\\n",
       "0     -23.559359   -46.666542  ...        29.63            BRL  2021   Jan   \n",
       "1     -23.599585   -46.715717  ...        20.86            BRL  2021   Jan   \n",
       "2     -23.559273   -46.666595  ...        34.23            BRL  2021   Jan   \n",
       "3     -23.425755   -46.481190  ...        58.77            BRL  2020   Dec   \n",
       "4     -23.559261   -46.666510  ...        12.63            BRL  2020   Dec   \n",
       "..           ...          ...  ...          ...            ...   ...   ...   \n",
       "549   -23.602760   -46.644897  ...         7.84            BRL  2016   Jun   \n",
       "550   -23.602737   -46.645352  ...        15.06            BRL  2016   Apr   \n",
       "551   -23.569549   -46.672412  ...        15.16            BRL  2016   Apr   \n",
       "552   -23.600862   -46.644494  ...         0.00            BRL  2016   Apr   \n",
       "553   -23.611577   -46.570618  ...         7.00            BRL  2015   Dec   \n",
       "\n",
       "    weekday   time distance_km  amount_km  request_lead_time  trip_duration  \n",
       "0       Wed  22:06        7.79       3.80                4.4           18.1  \n",
       "1       Wed  20:21        8.55       2.44                6.4           27.4  \n",
       "2       Sun  00:23        9.50       3.60                9.6           17.9  \n",
       "3       Fri  23:16       31.77       1.85               11.0           65.2  \n",
       "4       Fri  00:35        4.09       3.09               11.0           11.2  \n",
       "..      ...    ...         ...        ...                ...            ...  \n",
       "549     Wed  11:07        3.54       2.21                7.2           10.2  \n",
       "550     Thu  00:30        6.57       2.29                4.6           14.8  \n",
       "551     Wed  21:16        5.55       2.73                3.9           20.8  \n",
       "552     Wed  21:12        0.00        NaN        -24332952.1            0.0  \n",
       "553     Thu  23:52        0.00        inf                8.2    -24173281.0  \n",
       "\n",
       "[544 rows x 21 columns]>"
      ]
     },
     "execution_count": 79,
     "metadata": {},
     "output_type": "execute_result"
    }
   ],
   "source": [
    "dataset.info"
   ]
  },
  {
   "cell_type": "code",
   "execution_count": 80,
   "metadata": {
    "id": "g8UjUtAnNPSp"
   },
   "outputs": [],
   "source": [
    "#Linear Regression\n",
    "import numpy as np\n",
    "import pandas as pd\n",
    "import matplotlib.pyplot as plt\n",
    "import seaborn as sns\n",
    "import statistics as st\n",
    "from sklearn.model_selection import train_test_split"
   ]
  },
  {
   "cell_type": "code",
   "execution_count": 81,
   "metadata": {
    "colab": {
     "base_uri": "https://localhost:8080/",
     "height": 297
    },
    "id": "2f-uckeCNVMd",
    "outputId": "6cb506f5-43ca-4660-9506-eb9c41e66d84"
   },
   "outputs": [
    {
     "name": "stdout",
     "output_type": "stream",
     "text": [
      "Slope =  1.7337373095547164\n"
     ]
    },
    {
     "data": {
      "image/png": "[encoded data removed]",
      "text/plain": [
       "<Figure size 432x288 with 1 Axes>"
      ]
     },
     "metadata": {
      "needs_background": "light"
     },
     "output_type": "display_data"
    }
   ],
   "source": [
    "def l_regression(x,y):\n",
    "#splitting the data\n",
    "  x_train, x_test, y_train, y_test = train_test_split(x,y, test_size =\n",
    "0.3, random_state = 0)\n",
    "x = dataset['distance_km']\n",
    "y = dataset['Fare_Amount']\n",
    "\n",
    "sum_x = sum(x)\n",
    "sum_xx = sum(x*x)\n",
    "sum_y = sum(y)\n",
    "sum_xy = sum(x*y)\n",
    "n = x.count()\n",
    "mean_x = sum_x/n\n",
    "mean_y = sum_y/n\n",
    "m = (n*sum_xy - (sum_x*sum_y)) / (n*sum_xx - (sum_x)*(sum_x))\n",
    "b = mean_y - m*mean_x\n",
    "y1 = m*x + b\n",
    "print(\"Slope = \",m)\n",
    "plt.plot(x, y1, color = \"b\")\n",
    "\n",
    "sns.scatterplot(x = dataset['distance_km'], y = dataset['Fare_Amount'], data = dataset,\n",
    "color = \"green\")\n",
    "x = dataset.iloc[:, :1].values.reshape(-1, 1)\n",
    "y = dataset.iloc[:, 1].values.reshape(-1, 1)\n",
    "l_regression(x,y)"
   ]
  },
  {
   "cell_type": "code",
   "execution_count": 82,
   "metadata": {
    "id": "YMyraNlbP-6d"
   },
   "outputs": [],
   "source": [
    "from sklearn.linear_model import LinearRegression\n",
    "from sklearn import metrics"
   ]
  },
  {
   "cell_type": "code",
   "execution_count": 83,
   "metadata": {
    "colab": {
     "base_uri": "https://localhost:8080/",
     "height": 424
    },
    "id": "NAvgcLCMPvMs",
    "outputId": "82bbf4e2-f1fd-4bab-f8ca-9bc6446ad391"
   },
   "outputs": [
    {
     "data": {
      "text/html": [
       "<div>\n",
       "<style scoped>\n",
       "    .dataframe tbody tr th:only-of-type {\n",
       "        vertical-align: middle;\n",
       "    }\n",
       "\n",
       "    .dataframe tbody tr th {\n",
       "        vertical-align: top;\n",
       "    }\n",
       "\n",
       "    .dataframe thead th {\n",
       "        text-align: right;\n",
       "    }\n",
       "</style>\n",
       "<table border=\"1\" class=\"dataframe\">\n",
       "  <thead>\n",
       "    <tr style=\"text-align: right;\">\n",
       "      <th></th>\n",
       "      <th>Actual</th>\n",
       "      <th>Predicted</th>\n",
       "    </tr>\n",
       "  </thead>\n",
       "  <tbody>\n",
       "    <tr>\n",
       "      <th>0</th>\n",
       "      <td>12.90</td>\n",
       "      <td>11.854052</td>\n",
       "    </tr>\n",
       "    <tr>\n",
       "      <th>1</th>\n",
       "      <td>7.89</td>\n",
       "      <td>7.792436</td>\n",
       "    </tr>\n",
       "    <tr>\n",
       "      <th>2</th>\n",
       "      <td>25.25</td>\n",
       "      <td>20.688934</td>\n",
       "    </tr>\n",
       "    <tr>\n",
       "      <th>3</th>\n",
       "      <td>20.07</td>\n",
       "      <td>19.994640</td>\n",
       "    </tr>\n",
       "    <tr>\n",
       "      <th>4</th>\n",
       "      <td>25.21</td>\n",
       "      <td>21.782446</td>\n",
       "    </tr>\n",
       "    <tr>\n",
       "      <th>...</th>\n",
       "      <td>...</td>\n",
       "      <td>...</td>\n",
       "    </tr>\n",
       "    <tr>\n",
       "      <th>159</th>\n",
       "      <td>23.79</td>\n",
       "      <td>24.021541</td>\n",
       "    </tr>\n",
       "    <tr>\n",
       "      <th>160</th>\n",
       "      <td>0.00</td>\n",
       "      <td>4.459828</td>\n",
       "    </tr>\n",
       "    <tr>\n",
       "      <th>161</th>\n",
       "      <td>28.79</td>\n",
       "      <td>48.252377</td>\n",
       "    </tr>\n",
       "    <tr>\n",
       "      <th>162</th>\n",
       "      <td>25.30</td>\n",
       "      <td>21.001366</td>\n",
       "    </tr>\n",
       "    <tr>\n",
       "      <th>163</th>\n",
       "      <td>31.63</td>\n",
       "      <td>25.739917</td>\n",
       "    </tr>\n",
       "  </tbody>\n",
       "</table>\n",
       "<p>164 rows × 2 columns</p>\n",
       "</div>"
      ],
      "text/plain": [
       "     Actual  Predicted\n",
       "0     12.90  11.854052\n",
       "1      7.89   7.792436\n",
       "2     25.25  20.688934\n",
       "3     20.07  19.994640\n",
       "4     25.21  21.782446\n",
       "..      ...        ...\n",
       "159   23.79  24.021541\n",
       "160    0.00   4.459828\n",
       "161   28.79  48.252377\n",
       "162   25.30  21.001366\n",
       "163   31.63  25.739917\n",
       "\n",
       "[164 rows x 2 columns]"
      ]
     },
     "execution_count": 83,
     "metadata": {},
     "output_type": "execute_result"
    }
   ],
   "source": [
    "x = dataset['distance_km']\n",
    "y = dataset['Fare_Amount']\n",
    "x.fillna(x.median(),inplace=True)\n",
    "y.fillna(y.median(),inplace=True)\n",
    "x=x.values.reshape(-1,1)\n",
    "y=y.values.reshape(-1,1)\n",
    "x_train, x_test, y_train, y_test = train_test_split(x,y, test_size =0.3, random_state = 0)\n",
    "regressor = LinearRegression()  \n",
    "regressor.fit(x_train, y_train) #training the algorithm\n",
    "\n",
    "y_pred = regressor.predict(x_test)\n",
    "\n",
    "df = pd.DataFrame({'Actual': y_test.flatten(), 'Predicted': y_pred.flatten()})\n",
    "df"
   ]
  },
  {
   "cell_type": "code",
   "execution_count": 84,
   "metadata": {
    "colab": {
     "base_uri": "https://localhost:8080/",
     "height": 284
    },
    "id": "bCn-IIDwRN3q",
    "outputId": "4b20b727-bee3-404f-da91-fde9a62185fa"
   },
   "outputs": [
    {
     "data": {
      "image/png": "[encoded data removed]",
      "text/plain": [
       "<Figure size 432x288 with 1 Axes>"
      ]
     },
     "metadata": {
      "needs_background": "light"
     },
     "output_type": "display_data"
    },
    {
     "name": "stdout",
     "output_type": "stream",
     "text": [
      "Mean Absolute Error: 3.2682855242976\n"
     ]
    }
   ],
   "source": [
    "plt.scatter(x_test, y_test,  color='blue')\n",
    "plt.plot(x_test, y_pred, color='red', linewidth=2)\n",
    "plt.show()\n",
    "print('Mean Absolute Error:', metrics.mean_absolute_error(y_test, y_pred))  "
   ]
  },
  {
   "cell_type": "code",
   "execution_count": 85,
   "metadata": {
    "colab": {
     "base_uri": "https://localhost:8080/"
    },
    "id": "8Pa0ZTndqFbh",
    "outputId": "8273dd95-569e-4712-9378-2722bf786f76"
   },
   "outputs": [
    {
     "data": {
      "text/plain": [
       "array([[13.13849425]])"
      ]
     },
     "execution_count": 85,
     "metadata": {},
     "output_type": "execute_result"
    }
   ],
   "source": [
    "\n",
    "#testing regression \n",
    "X=np.array([[5]])\n",
    "y_pred = regressor.predict(X)\n",
    "y_pred"
   ]
  },
  {
   "cell_type": "code",
   "execution_count": 86,
   "metadata": {
    "id": "OOBK1Me7rFWc"
   },
   "outputs": [],
   "source": [
    "import pickle"
   ]
  },
  {
   "cell_type": "code",
   "execution_count": 90,
   "metadata": {
    "id": "rfRiefPbrKK1"
   },
   "outputs": [],
   "source": [
    "data={'model': regressor}\n",
    "with open(\"uber_saved.pkl\",\"wb\") as file :\n",
    "  pickle.dump(data,file)"
   ]
  },
  {
   "cell_type": "code",
   "execution_count": 91,
   "metadata": {
    "colab": {
     "base_uri": "https://localhost:8080/"
    },
    "id": "8dVT0vMeri3e",
    "outputId": "e0eb53af-a707-4597-d6ee-457b9a06c941"
   },
   "outputs": [
    {
     "data": {
      "text/plain": [
       "array([[13.13849425]])"
      ]
     },
     "execution_count": 91,
     "metadata": {},
     "output_type": "execute_result"
    }
   ],
   "source": [
    "with open(\"uber_saved.pkl\",\"rb\") as file :\n",
    "  data=pickle.load(file)\n",
    "regressor=data['model']\n",
    "y_pred = regressor.predict(X)\n",
    "y_pred"
   ]
  },
  {
   "cell_type": "code",
   "execution_count": null,
   "metadata": {},
   "outputs": [],
   "source": []
  },
  {
   "cell_type": "code",
   "execution_count": null,
   "metadata": {},
   "outputs": [],
   "source": []
  }
 ],
 "metadata": {
  "colab": {
   "collapsed_sections": [],
   "name": "UberDataAnalysis.ipynb",
   "provenance": []
  },
  "kernelspec": {
   "display_name": "Python 3 (ipykernel)",
   "language": "python",
   "name": "python3"
  },
  "language_info": {
   "codemirror_mode": {
    "name": "ipython",
    "version": 3
   },
   "file_extension": ".py",
   "mimetype": "text/x-python",
   "name": "python",
   "nbconvert_exporter": "python",
   "pygments_lexer": "ipython3",
   "version": "3.9.7"
  }
 },
 "nbformat": 4,
 "nbformat_minor": 1
}
